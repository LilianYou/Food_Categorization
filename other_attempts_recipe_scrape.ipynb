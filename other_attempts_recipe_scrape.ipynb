{
 "cells": [
  {
   "cell_type": "code",
   "execution_count": 2,
   "metadata": {},
   "outputs": [
    {
     "name": "stdout",
     "output_type": "stream",
     "text": [
      "Collecting django\n",
      "  Downloading Django-3.1.2-py3-none-any.whl (7.8 MB)\n",
      "\u001b[K     |████████████████████████████████| 7.8 MB 3.0 MB/s eta 0:00:01\n",
      "\u001b[?25hCollecting sqlparse>=0.2.2\n",
      "  Downloading sqlparse-0.4.1-py3-none-any.whl (42 kB)\n",
      "\u001b[K     |████████████████████████████████| 42 kB 130 kB/s  eta 0:00:01\n",
      "\u001b[?25hCollecting asgiref~=3.2.10\n",
      "  Downloading asgiref-3.2.10-py3-none-any.whl (19 kB)\n",
      "Requirement already satisfied: pytz in /home/ec2-user/anaconda3/envs/python3/lib/python3.6/site-packages (from django) (2019.3)\n",
      "Installing collected packages: sqlparse, asgiref, django\n",
      "Successfully installed asgiref-3.2.10 django-3.1.2 sqlparse-0.4.1\n",
      "\u001b[33mWARNING: You are using pip version 20.0.2; however, version 20.2.3 is available.\n",
      "You should consider upgrading via the '/home/ec2-user/anaconda3/envs/python3/bin/python -m pip install --upgrade pip' command.\u001b[0m\n"
     ]
    }
   ],
   "source": [
    "!pip install django"
   ]
  },
  {
   "cell_type": "code",
   "execution_count": 4,
   "metadata": {},
   "outputs": [
    {
     "name": "stdout",
     "output_type": "stream",
     "text": [
      "Collecting recipe_scrapers\n",
      "  Downloading recipe_scrapers-10.0.1.tar.gz (32 kB)\n",
      "Requirement already satisfied: beautifulsoup4>=4.6.0 in /home/ec2-user/anaconda3/envs/python3/lib/python3.6/site-packages (from recipe_scrapers) (4.8.2)\n",
      "Collecting extruct>=0.8.0\n",
      "  Downloading extruct-0.10.0-py2.py3-none-any.whl (15 kB)\n",
      "Collecting language-tags>=1.0.0\n",
      "  Downloading language_tags-1.0.0.tar.gz (203 kB)\n",
      "\u001b[K     |████████████████████████████████| 203 kB 6.4 MB/s eta 0:00:01\n",
      "\u001b[?25hRequirement already satisfied: requests>=2.19.1 in /home/ec2-user/anaconda3/envs/python3/lib/python3.6/site-packages (from recipe_scrapers) (2.22.0)\n",
      "Collecting tldextract==2.2.2\n",
      "  Downloading tldextract-2.2.2-py2.py3-none-any.whl (48 kB)\n",
      "\u001b[K     |████████████████████████████████| 48 kB 5.8 MB/s  eta 0:00:01\n",
      "\u001b[?25hRequirement already satisfied: soupsieve>=1.2 in /home/ec2-user/anaconda3/envs/python3/lib/python3.6/site-packages (from beautifulsoup4>=4.6.0->recipe_scrapers) (1.9.5)\n",
      "Collecting w3lib\n",
      "  Downloading w3lib-1.22.0-py2.py3-none-any.whl (20 kB)\n",
      "Collecting rdflib<5.0.0\n",
      "  Downloading rdflib-4.2.2-py3-none-any.whl (344 kB)\n",
      "\u001b[K     |████████████████████████████████| 344 kB 8.8 MB/s eta 0:00:01\n",
      "\u001b[?25hRequirement already satisfied: lxml in /home/ec2-user/anaconda3/envs/python3/lib/python3.6/site-packages (from extruct>=0.8.0->recipe_scrapers) (4.5.0)\n",
      "Collecting jstyleson\n",
      "  Downloading jstyleson-0.0.2.tar.gz (2.0 kB)\n",
      "Collecting rdflib-jsonld\n",
      "  Downloading rdflib-jsonld-0.5.0.tar.gz (55 kB)\n",
      "\u001b[K     |████████████████████████████████| 55 kB 5.2 MB/s  eta 0:00:01\n",
      "\u001b[?25hCollecting html-text>=0.5.1\n",
      "  Downloading html_text-0.5.2-py2.py3-none-any.whl (7.5 kB)\n",
      "Requirement already satisfied: six in /home/ec2-user/anaconda3/envs/python3/lib/python3.6/site-packages (from extruct>=0.8.0->recipe_scrapers) (1.14.0)\n",
      "Collecting mf2py\n",
      "  Downloading mf2py-1.1.2.tar.gz (25 kB)\n",
      "Requirement already satisfied: certifi>=2017.4.17 in /home/ec2-user/anaconda3/envs/python3/lib/python3.6/site-packages (from requests>=2.19.1->recipe_scrapers) (2020.6.20)\n",
      "Requirement already satisfied: chardet<3.1.0,>=3.0.2 in /home/ec2-user/anaconda3/envs/python3/lib/python3.6/site-packages (from requests>=2.19.1->recipe_scrapers) (3.0.4)\n",
      "Requirement already satisfied: urllib3!=1.25.0,!=1.25.1,<1.26,>=1.21.1 in /home/ec2-user/anaconda3/envs/python3/lib/python3.6/site-packages (from requests>=2.19.1->recipe_scrapers) (1.25.8)\n",
      "Requirement already satisfied: idna<2.9,>=2.5 in /home/ec2-user/anaconda3/envs/python3/lib/python3.6/site-packages (from requests>=2.19.1->recipe_scrapers) (2.8)\n",
      "Requirement already satisfied: setuptools in /home/ec2-user/anaconda3/envs/python3/lib/python3.6/site-packages (from tldextract==2.2.2->recipe_scrapers) (45.2.0.post20200210)\n",
      "Collecting requests-file>=1.4\n",
      "  Downloading requests_file-1.5.1-py2.py3-none-any.whl (3.7 kB)\n",
      "Collecting isodate\n",
      "  Downloading isodate-0.6.0-py2.py3-none-any.whl (45 kB)\n",
      "\u001b[K     |████████████████████████████████| 45 kB 4.9 MB/s  eta 0:00:01\n",
      "\u001b[?25hRequirement already satisfied: pyparsing in /home/ec2-user/anaconda3/envs/python3/lib/python3.6/site-packages (from rdflib<5.0.0->extruct>=0.8.0->recipe_scrapers) (2.4.6)\n",
      "Requirement already satisfied: html5lib>=1.0.1 in /home/ec2-user/anaconda3/envs/python3/lib/python3.6/site-packages (from mf2py->extruct>=0.8.0->recipe_scrapers) (1.0.1)\n",
      "Requirement already satisfied: webencodings in /home/ec2-user/anaconda3/envs/python3/lib/python3.6/site-packages (from html5lib>=1.0.1->mf2py->extruct>=0.8.0->recipe_scrapers) (0.5.1)\n",
      "Building wheels for collected packages: recipe-scrapers, language-tags, jstyleson, rdflib-jsonld, mf2py\n",
      "  Building wheel for recipe-scrapers (setup.py) ... \u001b[?25ldone\n",
      "\u001b[?25h  Created wheel for recipe-scrapers: filename=recipe_scrapers-10.0.1-py3-none-any.whl size=68663 sha256=561d36d660d8e366d5e52536de57951bcf35f7642e3b7ae2895bc8c12461fce2\n",
      "  Stored in directory: /home/ec2-user/.cache/pip/wheels/5a/33/7b/ac15e5c1f275d9399a87b2a3496a2285ec925efc2667135117\n",
      "  Building wheel for language-tags (setup.py) ... \u001b[?25ldone\n",
      "\u001b[?25h  Created wheel for language-tags: filename=language_tags-1.0.0-py2.py3-none-any.whl size=209135 sha256=04303266100c55dbcc9c9c12fced827a129905238aa5e77ce85f2e104ca930ff\n",
      "  Stored in directory: /home/ec2-user/.cache/pip/wheels/55/fc/78/a192076854693a0fa73afb08ee328b699e990c48adc771c8b1\n",
      "  Building wheel for jstyleson (setup.py) ... \u001b[?25ldone\n",
      "\u001b[?25h  Created wheel for jstyleson: filename=jstyleson-0.0.2-py3-none-any.whl size=2401 sha256=37daecd6e9e444df1ec3596a837b4a650a988fa37e5d5d114b6ce4619c5ca03b\n",
      "  Stored in directory: /home/ec2-user/.cache/pip/wheels/b4/81/d5/cdb314e9ce581447d273295dae3047b4ce87573996df43c0cd\n",
      "  Building wheel for rdflib-jsonld (setup.py) ... \u001b[?25ldone\n",
      "\u001b[?25h  Created wheel for rdflib-jsonld: filename=rdflib_jsonld-0.5.0-py2.py3-none-any.whl size=15348 sha256=9b6cf6dddc1465a7651fb693708a1d586975fdd18e014ecbc98618b7e084b518\n",
      "  Stored in directory: /home/ec2-user/.cache/pip/wheels/e4/72/6e/144dce8b21558be176168b23bd8d7062c21cbbe9596c3926ec\n",
      "  Building wheel for mf2py (setup.py) ... \u001b[?25ldone\n",
      "\u001b[?25h  Created wheel for mf2py: filename=mf2py-1.1.2-py3-none-any.whl size=23243 sha256=3d9afc1e36777bd8dc6cd4e7e1ecd631b4546be7f5a5b8b3d1ff214a543cf3c1\n",
      "  Stored in directory: /home/ec2-user/.cache/pip/wheels/a2/8a/88/64f19be72983f814d57c65b4b23c19f8a0e048a4d7909ff1a4\n",
      "Successfully built recipe-scrapers language-tags jstyleson rdflib-jsonld mf2py\n",
      "Installing collected packages: w3lib, isodate, rdflib, jstyleson, rdflib-jsonld, html-text, mf2py, extruct, language-tags, requests-file, tldextract, recipe-scrapers\n",
      "Successfully installed extruct-0.10.0 html-text-0.5.2 isodate-0.6.0 jstyleson-0.0.2 language-tags-1.0.0 mf2py-1.1.2 rdflib-4.2.2 rdflib-jsonld-0.5.0 recipe-scrapers-10.0.1 requests-file-1.5.1 tldextract-2.2.2 w3lib-1.22.0\n",
      "\u001b[33mWARNING: You are using pip version 20.0.2; however, version 20.2.3 is available.\n",
      "You should consider upgrading via the '/home/ec2-user/anaconda3/envs/python3/bin/python -m pip install --upgrade pip' command.\u001b[0m\n"
     ]
    }
   ],
   "source": [
    "!pip install recipe_scrapers"
   ]
  },
  {
   "cell_type": "code",
   "execution_count": 6,
   "metadata": {},
   "outputs": [
    {
     "name": "stdout",
     "output_type": "stream",
     "text": [
      "Collecting recommendation\n",
      "  Downloading recommendation-0.3.1-py3-none-any.whl (118 kB)\n",
      "\u001b[K     |████████████████████████████████| 118 kB 3.0 MB/s eta 0:00:01\n",
      "\u001b[?25hCollecting sklearn\n",
      "  Downloading sklearn-0.0.tar.gz (1.1 kB)\n",
      "Collecting flask-restplus\n",
      "  Downloading flask_restplus-0.13.0-py2.py3-none-any.whl (2.5 MB)\n",
      "\u001b[K     |████████████████████████████████| 2.5 MB 9.1 MB/s eta 0:00:01\n",
      "\u001b[?25hRequirement already satisfied: numpy in /home/ec2-user/anaconda3/envs/python3/lib/python3.6/site-packages (from recommendation) (1.18.1)\n",
      "Requirement already satisfied: requests in /home/ec2-user/anaconda3/envs/python3/lib/python3.6/site-packages (from recommendation) (2.22.0)\n",
      "Requirement already satisfied: flask in /home/ec2-user/anaconda3/envs/python3/lib/python3.6/site-packages (from recommendation) (1.1.1)\n",
      "Requirement already satisfied: scipy in /home/ec2-user/anaconda3/envs/python3/lib/python3.6/site-packages (from recommendation) (1.4.1)\n",
      "Requirement already satisfied: scikit-learn in /home/ec2-user/anaconda3/envs/python3/lib/python3.6/site-packages (from sklearn->recommendation) (0.22.1)\n",
      "Requirement already satisfied: six>=1.3.0 in /home/ec2-user/anaconda3/envs/python3/lib/python3.6/site-packages (from flask-restplus->recommendation) (1.14.0)\n",
      "Requirement already satisfied: jsonschema in /home/ec2-user/anaconda3/envs/python3/lib/python3.6/site-packages (from flask-restplus->recommendation) (3.2.0)\n",
      "Requirement already satisfied: pytz in /home/ec2-user/anaconda3/envs/python3/lib/python3.6/site-packages (from flask-restplus->recommendation) (2019.3)\n",
      "Collecting aniso8601>=0.82\n",
      "  Downloading aniso8601-8.0.0-py2.py3-none-any.whl (43 kB)\n",
      "\u001b[K     |████████████████████████████████| 43 kB 2.8 MB/s  eta 0:00:01\n",
      "\u001b[?25hRequirement already satisfied: idna<2.9,>=2.5 in /home/ec2-user/anaconda3/envs/python3/lib/python3.6/site-packages (from requests->recommendation) (2.8)\n",
      "Requirement already satisfied: chardet<3.1.0,>=3.0.2 in /home/ec2-user/anaconda3/envs/python3/lib/python3.6/site-packages (from requests->recommendation) (3.0.4)\n",
      "Requirement already satisfied: urllib3!=1.25.0,!=1.25.1,<1.26,>=1.21.1 in /home/ec2-user/anaconda3/envs/python3/lib/python3.6/site-packages (from requests->recommendation) (1.25.8)\n",
      "Requirement already satisfied: certifi>=2017.4.17 in /home/ec2-user/anaconda3/envs/python3/lib/python3.6/site-packages (from requests->recommendation) (2020.6.20)\n",
      "Requirement already satisfied: Werkzeug>=0.15 in /home/ec2-user/anaconda3/envs/python3/lib/python3.6/site-packages (from flask->recommendation) (1.0.0)\n",
      "Requirement already satisfied: click>=5.1 in /home/ec2-user/anaconda3/envs/python3/lib/python3.6/site-packages (from flask->recommendation) (7.0)\n",
      "Requirement already satisfied: itsdangerous>=0.24 in /home/ec2-user/anaconda3/envs/python3/lib/python3.6/site-packages (from flask->recommendation) (1.1.0)\n",
      "Requirement already satisfied: Jinja2>=2.10.1 in /home/ec2-user/anaconda3/envs/python3/lib/python3.6/site-packages (from flask->recommendation) (2.11.1)\n",
      "Requirement already satisfied: joblib>=0.11 in /home/ec2-user/anaconda3/envs/python3/lib/python3.6/site-packages (from scikit-learn->sklearn->recommendation) (0.14.1)\n",
      "Requirement already satisfied: importlib-metadata; python_version < \"3.8\" in /home/ec2-user/anaconda3/envs/python3/lib/python3.6/site-packages (from jsonschema->flask-restplus->recommendation) (1.7.0)\n",
      "Requirement already satisfied: attrs>=17.4.0 in /home/ec2-user/anaconda3/envs/python3/lib/python3.6/site-packages (from jsonschema->flask-restplus->recommendation) (19.3.0)\n",
      "Requirement already satisfied: setuptools in /home/ec2-user/anaconda3/envs/python3/lib/python3.6/site-packages (from jsonschema->flask-restplus->recommendation) (45.2.0.post20200210)\n",
      "Requirement already satisfied: pyrsistent>=0.14.0 in /home/ec2-user/anaconda3/envs/python3/lib/python3.6/site-packages (from jsonschema->flask-restplus->recommendation) (0.15.7)\n",
      "Requirement already satisfied: MarkupSafe>=0.23 in /home/ec2-user/anaconda3/envs/python3/lib/python3.6/site-packages (from Jinja2>=2.10.1->flask->recommendation) (1.1.1)\n",
      "Requirement already satisfied: zipp>=0.5 in /home/ec2-user/anaconda3/envs/python3/lib/python3.6/site-packages (from importlib-metadata; python_version < \"3.8\"->jsonschema->flask-restplus->recommendation) (2.2.0)\n",
      "Building wheels for collected packages: sklearn\n",
      "  Building wheel for sklearn (setup.py) ... \u001b[?25ldone\n",
      "\u001b[?25h  Created wheel for sklearn: filename=sklearn-0.0-py2.py3-none-any.whl size=1315 sha256=3b9006f7c7d7c2214dfe8775573db075674e32edc4f8d888dbf5d1df4be0e6ac\n",
      "  Stored in directory: /home/ec2-user/.cache/pip/wheels/23/9d/42/5ec745cbbb17517000a53cecc49d6a865450d1f5cb16dc8a9c\n",
      "Successfully built sklearn\n",
      "Installing collected packages: sklearn, aniso8601, flask-restplus, recommendation\n",
      "Successfully installed aniso8601-8.0.0 flask-restplus-0.13.0 recommendation-0.3.1 sklearn-0.0\n",
      "\u001b[33mWARNING: You are using pip version 20.0.2; however, version 20.2.3 is available.\n",
      "You should consider upgrading via the '/home/ec2-user/anaconda3/envs/python3/bin/python -m pip install --upgrade pip' command.\u001b[0m\n"
     ]
    }
   ],
   "source": [
    "!pip install recommendation"
   ]
  },
  {
   "cell_type": "code",
   "execution_count": 7,
   "metadata": {},
   "outputs": [
    {
     "ename": "ModuleNotFoundError",
     "evalue": "No module named 'recommendation.models'",
     "output_type": "error",
     "traceback": [
      "\u001b[0;31m---------------------------------------------------------------------------\u001b[0m",
      "\u001b[0;31mModuleNotFoundError\u001b[0m                       Traceback (most recent call last)",
      "\u001b[0;32m<ipython-input-7-3e3a910e218c>\u001b[0m in \u001b[0;36m<module>\u001b[0;34m\u001b[0m\n\u001b[1;32m      4\u001b[0m \u001b[0;32mfrom\u001b[0m \u001b[0mdjango\u001b[0m\u001b[0;34m.\u001b[0m\u001b[0mcore\u001b[0m\u001b[0;34m.\u001b[0m\u001b[0mmanagement\u001b[0m\u001b[0;34m.\u001b[0m\u001b[0mbase\u001b[0m \u001b[0;32mimport\u001b[0m \u001b[0mBaseCommand\u001b[0m\u001b[0;34m\u001b[0m\u001b[0;34m\u001b[0m\u001b[0m\n\u001b[1;32m      5\u001b[0m \u001b[0;32mfrom\u001b[0m \u001b[0mrecipe_scrapers\u001b[0m \u001b[0;32mimport\u001b[0m \u001b[0mscrape_me\u001b[0m\u001b[0;34m,\u001b[0m \u001b[0mWebsiteNotImplementedError\u001b[0m\u001b[0;34m\u001b[0m\u001b[0;34m\u001b[0m\u001b[0m\n\u001b[0;32m----> 6\u001b[0;31m \u001b[0;32mfrom\u001b[0m \u001b[0mrecommendation\u001b[0m\u001b[0;34m.\u001b[0m\u001b[0mmodels\u001b[0m \u001b[0;32mimport\u001b[0m \u001b[0mFoodDescription\u001b[0m\u001b[0;34m\u001b[0m\u001b[0;34m\u001b[0m\u001b[0m\n\u001b[0m",
      "\u001b[0;31mModuleNotFoundError\u001b[0m: No module named 'recommendation.models'"
     ]
    }
   ],
   "source": [
    "import csv\n",
    "import requests\n",
    "\n",
    "from django.core.management.base import BaseCommand\n",
    "from recipe_scrapers import scrape_me, WebsiteNotImplementedError\n",
    "from recommendation.models import FoodDescription\n"
   ]
  },
  {
   "cell_type": "code",
   "execution_count": null,
   "metadata": {},
   "outputs": [],
   "source": [
    "\n",
    "RECIPE_URLS = [\n",
    "    'https://www.allrecipes.com/recipe/280218/moms-fresh-cranberry-pumpkin-bread/',\n",
    "    'https://www.allrecipes.com/recipe/281358/warm-eggplant-salad/',\n",
    "    'https://www.allrecipes.com/recipe/87133/white-chicken-enchilada-slow-cooker-casserole/',\n",
    "    'https://www.allrecipes.com/recipe/240784/easy-coleslaw-dressing/',\n",
    "    'https://www.allrecipes.com/recipe/216950/roasted-cauliflower-soup/',\n",
    "    'https://www.allrecipes.com/recipe/83557/juicy-roasted-chicken/',\n",
    "    'https://www.allrecipes.com/recipe/24771/basic-mashed-potatoes/',\n",
    "    'https://www.allrecipes.com/recipe/256875/cheesy-sausage-lasagna-soup/',\n",
    "    'https://www.allrecipes.com/recipe/77981/butternut-squash-soup-ii/',\n",
    "    'https://www.allrecipes.com/recipe/51301/sarahs-applesauce/',\n",
    "    'https://www.allrecipes.com/recipe/25832/cream-cheese-squares/',\n",
    "    'https://www.archanaskitchen.com/chinese-style-sweet-and-spicy-broccoli-stir-fry-with-sausage-recipe',\n",
    "    'https://www.archanaskitchen.com/creamy-thai-sweet-potato-curry-recipe',\n",
    "    'https://www.ambitiouskitchen.com/white-chicken-chili-pie/',\n",
    "    'https://www.ambitiouskitchen.com/pumpkin-lentil-soup/',\n",
    "    'https://eatsmarter.com/recipes/blackberry-smoothie-1',\\\n",
    "    'https://eatsmarter.com/recipes/purple-smoothie-bowl',\n",
    "    'https://eatsmarter.com/recipes/guava-mango-drink',\n",
    "    'https://fitmencook.com/asian-orzo-pasta-salad/',\n",
    "    'https://fitmencook.com/low-carb-cajun-shrimp-bowl/',\n",
    "    'https://fitmencook.com/waffle-corn-dogs/',\n",
    "    'https://lovingitvegan.com/vegan-pumpkin-pie/',\n",
    "    'https://lovingitvegan.com/vegan-cheesecake/',\n",
    "    'https://lovingitvegan.com/roasted-butternut-squash-salad/',\n",
    "    'https://lovingitvegan.com/chocolate-dessert-hummus/',\n",
    "    'https://eatsmarter.com/recipes/apple-macadamia-smoothie',\n",
    "    'https://eatsmarter.com/recipes/kale-smoothie',\n",
    "    'https://eatsmarter.com/recipes/carrot-mandarin-orange-drink'\n",
    "]\n"
   ]
  },
  {
   "cell_type": "code",
   "execution_count": null,
   "metadata": {},
   "outputs": [],
   "source": [
    "\n",
    "class Command(BaseCommand):\n",
    "    # def get_recipes(self, food, recipe_writer):\n",
    "    def get_recipes(self, recipe_url, recipe_writer):\n",
    "        try:\n",
    "            scraper = scrape_me(recipe_url)\n",
    "        except WebsiteNotImplementedError:\n",
    "            pass\n",
    "\n",
    "        print(scraper.title())\n",
    "        # scraper.total_time()\n",
    "        # scraper.yields()\n",
    "        # print(scraper.ingredients())\n",
    "        # print(scraper.instructions())\n",
    "        # scraper.image()\n",
    "        # scraper.host()\n",
    "        # scraper.links()\n",
    "        # recipe_writer.writerow([recipe_url, scraper.title(), scraper.total_time(), scraper.yields(),\n",
    "        recipe_writer.writerow([scraper.title(), scraper.total_time(), scraper.yields(),\n",
    "                                scraper.ingredients(), scraper.instructions()])\n",
    "\n",
    "    def handle(self, *args, **options):\n",
    "        with open('recipes.csv', mode='w') as recipes_file:\n",
    "            recipe_writer = csv.writer(recipes_file, delimiter=';', quotechar='\"', quoting=csv.QUOTE_MINIMAL)\n",
    "            recipe_writer.writerow(['title', 'total_time', 'yields', 'ingredients', 'instructions'])\n",
    "            for recipe_url in RECIPE_URLS:\n",
    "                self.get_recipes(recipe_url, recipe_writer)\n",
    "\n",
    "        print('Finished')\n"
   ]
  }
 ],
 "metadata": {
  "kernelspec": {
   "display_name": "conda_python3",
   "language": "python",
   "name": "conda_python3"
  },
  "language_info": {
   "codemirror_mode": {
    "name": "ipython",
    "version": 3
   },
   "file_extension": ".py",
   "mimetype": "text/x-python",
   "name": "python",
   "nbconvert_exporter": "python",
   "pygments_lexer": "ipython3",
   "version": "3.6.10"
  }
 },
 "nbformat": 4,
 "nbformat_minor": 4
}
